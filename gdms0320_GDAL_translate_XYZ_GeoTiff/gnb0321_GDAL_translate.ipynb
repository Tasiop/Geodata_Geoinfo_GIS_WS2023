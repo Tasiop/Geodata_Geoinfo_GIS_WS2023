{
 "cells": [
  {
   "cell_type": "markdown",
   "id": "9705f1be",
   "metadata": {
    "tags": []
   },
   "source": [
    "# GDAL Translate XYZ -> GeoTiff\n",
    "\n",
    "GDAL Python bindings: https://gdal.org/api/python.html\n",
    "\n",
    "Stackexchange: https://gis.stackexchange.com/questions/42584/how-to-call-gdal-translate-from-python-code\n",
    "\n",
    "GDAL translation options: https://gdal.org/python/osgeo.gdal-module.html#TranslateOptions\n",
    "\n",
    "GDAL command line program: `gdal_translate -a_srs EPSG:25832 test.xyz test.tif` <br>\n",
    "See https://gis.stackexchange.com/questions/227246/convert-huge-xyz-csv-to-geotiff\n",
    "\n"
   ]
  },
  {
   "cell_type": "code",
   "execution_count": 21,
   "id": "06accaee",
   "metadata": {},
   "outputs": [
    {
     "name": "stdout",
     "output_type": "stream",
     "text": [
      "Python 3.11.6\n"
     ]
    }
   ],
   "source": [
    "!python --version"
   ]
  },
  {
   "cell_type": "code",
   "execution_count": 22,
   "id": "57427c39",
   "metadata": {},
   "outputs": [
    {
     "name": "stdout",
     "output_type": "stream",
     "text": [
      "# conda environments:\n",
      "#\n",
      "                         C:\\Users\\tasio\\OneDrive\\Documentos\\anaconda hsrw\\Nueva carpeta\\envs\\eeng\n",
      "base                     C:\\Users\\tasio\\anaconda3\n",
      "eeng                     C:\\Users\\tasio\\anaconda3\\envs\\eeng\n",
      "geodata               *  C:\\Users\\tasio\\anaconda3\\envs\\geodata\n",
      "\n"
     ]
    }
   ],
   "source": [
    "!conda env list"
   ]
  },
  {
   "cell_type": "code",
   "execution_count": 36,
   "id": "94059235",
   "metadata": {},
   "outputs": [],
   "source": [
    "# The final directories. Will be used later.\n",
    "input_dir = r\"../data/original/NRW_DTM_Hees_EPSG_25832_XYZ/\"\n",
    "output_dir = r\"../data/derived/NRW_DTM_Hees_EPSG_25832_GeoTiff/\""
   ]
  },
  {
   "cell_type": "markdown",
   "id": "e5427c93",
   "metadata": {},
   "source": [
    "## \n",
    "Task: Anaylse the data structure. ##\n",
    "\n",
    "**Download** a single gzipped XYZ file manually for testing into the correct notebook folderfor testing: <br>\n",
    "https://www.opengeodata.nrw.de/produkte/geobasis/hm/dgm1_xyz/dgm1_xyz/dgm1_32_322_5728_1_nw.xyz.gz\n",
    "\n",
    "**Unzip** the file externally. Open it in an editor. \n",
    "\n",
    "**Q:** What is in the columns of the XYZ file? <br>\n",
    "1st column --> Longitud \n",
    "\n",
    "2nd column --> Latitud\n",
    "\n",
    "3rd column --> Altitud\n",
    "\n",
    "**Q:** Which unit does each column have? <br>  \n",
    "\n",
    "METERS\n",
    "\n",
    "\n",
    "**Q:** Which coordinate reference system (CRS) is used? <br> EPSG25832\n",
    "\n",
    "And for the height EPSG 7837\n",
    "\n",
    "\n",
    "**Q:** What does \"projected CRS\" mean? <br>\n",
    "\n",
    "The projected CRS means the CRS that a softwear such as QGIS uses to represent all the data which is introcduced (sometimes with different CRS). So it actually shows you all the data in one same CRS by projecting the different CRS that the data have.\n",
    "\n",
    "\n",
    "**Q:** What is the distance / size of the grid (raster) cells? How do you know? <br>\n",
    "\n",
    "The grid width of the single raster cells is 1 meter\n",
    "\n",
    "**Q:** How many rows and columns does the grid have? <br>\n",
    "\n",
    "columns --> 3\n",
    "\n",
    "Rows --> The test file has 1.000.000 rows\n",
    "\n",
    "**Q:** What are the coordinates (x,y) of all four corner points? <br>\n",
    "\n",
    "#### solved at the end\n",
    "\n",
    "[(322000, 5728000), (322000, 5729000), (323000, 5729000), (323000, 5728000)]\r\n",
    "\n",
    "\n",
    "\n",
    "**Q:** How is the location of the DTM tile encoded in the file name?\n",
    "\n",
    "\n",
    " The location is encoded in the file name by showing the location of the column (longitud) to which the cell belongs in the first two sets of numbers,  eg: _32_322__. The location of the row (latitud) is shown on the second last set of numbers, eg: __5725_1"
   ]
  },
  {
   "cell_type": "markdown",
   "id": "e4820611",
   "metadata": {},
   "source": [
    "## Use `gdal.Translate` to convert the file format.\n",
    "\n",
    "**Update:** `gdal.Translate` can be applied to `xyz.gz`directly!\n",
    "\n",
    "This takes time. **Patience**"
   ]
  },
  {
   "cell_type": "code",
   "execution_count": 51,
   "id": "c7d5b3be-b3ef-4137-a19d-ab8fe3ff0624",
   "metadata": {},
   "outputs": [],
   "source": [
    "from osgeo import gdal"
   ]
  },
  {
   "cell_type": "code",
   "execution_count": 52,
   "id": "798ad2bd",
   "metadata": {
    "tags": []
   },
   "outputs": [
    {
     "name": "stdout",
     "output_type": "stream",
     "text": [
      "In:   dgm1_32_322_5728_1_nw.xyz.gz\n",
      "Out:  dgm1_32_322_5728_1_nw.tif\n",
      "CPU times: total: 4.55 s\n",
      "Wall time: 4.92 s\n"
     ]
    }
   ],
   "source": [
    "%%time\n",
    "basename = \"dgm1_32_322_5728_1_nw\"\n",
    "infile = basename + r\".xyz.gz\"\n",
    "print(\"In:  \", infile)\n",
    "outfile = basename + r\".tif\"\n",
    "ds = gdal.Open(infile)\n",
    "ds = gdal.Translate(outfile, ds, outputSRS=\"EPSG:25832\")\n",
    "ds = None\n",
    "print(\"Out: \", outfile)"
   ]
  },
  {
   "cell_type": "markdown",
   "id": "a3776d6b",
   "metadata": {},
   "source": [
    "## Play with the pathlib library, on object oriented interface to the file system."
   ]
  },
  {
   "cell_type": "code",
   "execution_count": 39,
   "id": "44dac564",
   "metadata": {},
   "outputs": [],
   "source": [
    "import pathlib"
   ]
  },
  {
   "cell_type": "code",
   "execution_count": 40,
   "id": "a6765514",
   "metadata": {},
   "outputs": [],
   "source": [
    "pathlib.Path(output_dir).mkdir(parents=True, exist_ok=True)"
   ]
  },
  {
   "cell_type": "code",
   "execution_count": 41,
   "id": "5216a115",
   "metadata": {},
   "outputs": [
    {
     "name": "stdout",
     "output_type": "stream",
     "text": [
      "dgm1_32_322_5722_1_nw.xyz\n",
      "dgm1_32_322_5723_1_nw.xyz\n",
      "dgm1_32_322_5724_1_nw.xyz\n",
      "dgm1_32_322_5725_1_nw.xyz\n",
      "dgm1_32_323_5722_1_nw.xyz\n",
      "dgm1_32_323_5723_1_nw.xyz\n",
      "dgm1_32_323_5724_1_nw.xyz\n",
      "dgm1_32_323_5725_1_nw.xyz\n",
      "dgm1_32_324_5722_1_nw.xyz\n",
      "dgm1_32_324_5723_1_nw.xyz\n",
      "dgm1_32_324_5724_1_nw.xyz\n",
      "dgm1_32_324_5725_1_nw.xyz\n",
      "dgm1_32_325_5722_1_nw.xyz\n",
      "dgm1_32_325_5723_1_nw.xyz\n",
      "dgm1_32_325_5724_1_nw.xyz\n",
      "dgm1_32_325_5725_1_nw.xyz\n"
     ]
    }
   ],
   "source": [
    "files = pathlib.Path(input_dir).glob('dgm1_32_*_*_nw.xyz.gz')\n",
    "for file in files:\n",
    "    basename = file.stem\n",
    "    print(basename)"
   ]
  },
  {
   "cell_type": "markdown",
   "id": "fea38e93",
   "metadata": {},
   "source": [
    "## Exercise: Convert all 16 tiles belonging to Hees and Fürstenberg from XYZ format to GeoTiff.\n",
    "\n",
    "Use the directories defined above as input and output directories. In case you do not have the XYZ data, yet, download the files first.\n",
    "\n",
    "\n",
    "<img src=\"images/Xanten_Hees_Fuerstenberg.png\" style=\"width:800px\"> \n"
   ]
  },
  {
   "cell_type": "code",
   "execution_count": 46,
   "id": "50d9e4a2",
   "metadata": {},
   "outputs": [
    {
     "name": "stdout",
     "output_type": "stream",
     "text": [
      "dgm1_32_322_5722_1_nw\n",
      "Out:  dgm1_32_322_5722_1_nw.tif\n",
      "dgm1_32_322_5723_1_nw\n",
      "Out:  dgm1_32_322_5723_1_nw.tif\n",
      "dgm1_32_322_5724_1_nw\n",
      "Out:  dgm1_32_322_5724_1_nw.tif\n",
      "dgm1_32_322_5725_1_nw\n",
      "Out:  dgm1_32_322_5725_1_nw.tif\n",
      "dgm1_32_323_5722_1_nw\n",
      "Out:  dgm1_32_323_5722_1_nw.tif\n",
      "dgm1_32_323_5723_1_nw\n",
      "Out:  dgm1_32_323_5723_1_nw.tif\n",
      "dgm1_32_323_5724_1_nw\n",
      "Out:  dgm1_32_323_5724_1_nw.tif\n",
      "dgm1_32_323_5725_1_nw\n",
      "Out:  dgm1_32_323_5725_1_nw.tif\n",
      "dgm1_32_324_5722_1_nw\n",
      "Out:  dgm1_32_324_5722_1_nw.tif\n",
      "dgm1_32_324_5723_1_nw\n",
      "Out:  dgm1_32_324_5723_1_nw.tif\n",
      "dgm1_32_324_5724_1_nw\n",
      "Out:  dgm1_32_324_5724_1_nw.tif\n",
      "dgm1_32_324_5725_1_nw\n",
      "Out:  dgm1_32_324_5725_1_nw.tif\n",
      "dgm1_32_325_5722_1_nw\n",
      "Out:  dgm1_32_325_5722_1_nw.tif\n",
      "dgm1_32_325_5723_1_nw\n",
      "Out:  dgm1_32_325_5723_1_nw.tif\n",
      "dgm1_32_325_5724_1_nw\n",
      "Out:  dgm1_32_325_5724_1_nw.tif\n",
      "dgm1_32_325_5725_1_nw\n",
      "Out:  dgm1_32_325_5725_1_nw.tif\n"
     ]
    }
   ],
   "source": [
    "files = pathlib.Path(input_dir).glob('dgm1_32_*_*_nw.xyz.gz')\n",
    "for file in files:\n",
    "    basename = file.stem.rsplit(\".\", 1)[0]\n",
    "    print(basename)\n",
    "    outfile = basename + r\".tif\"\n",
    "    ds = gdal.Open(input_dir + file.name)\n",
    "    ds = gdal.Translate(output_dir + outfile, ds, outputSRS=\"EPSG:25832\")\n",
    "    ds = None\n",
    "    print(\"Out: \", outfile)"
   ]
  },
  {
   "cell_type": "markdown",
   "id": "8b6a1d6c-61b3-4b05-bc7f-ae5c4c572de2",
   "metadata": {},
   "source": [
    "### SOLUTION FOR QUESTIONS"
   ]
  },
  {
   "cell_type": "code",
   "execution_count": 47,
   "id": "f1f2c0e5-f7e0-4b3e-8724-2dcdff547e0e",
   "metadata": {},
   "outputs": [],
   "source": [
    "fname = \"../data/dgm1_32_322_5728_1_nw (1).xyz.gz\""
   ]
  },
  {
   "cell_type": "code",
   "execution_count": 49,
   "id": "df2ed071",
   "metadata": {},
   "outputs": [],
   "source": [
    "def points_from_fname(fname, Dx=1000, Dy=1000):\n",
    "    \n",
    "    x_Left  = int(fname.split(\"_\")[2])*1000\n",
    "    y_Low   = int(fname.split(\"_\")[3])*1000\n",
    "    x_Right = x_Left + Dx\n",
    "    y_Up    = y_Low + Dy\n",
    "\n",
    "    P_LL = (x_Left,y_Low)\n",
    "    P_UL = (x_Left,y_Up)\n",
    "    P_UR = (x_Right,y_Up)\n",
    "    P_LR = (x_Right,y_Low)\n",
    "    \n",
    "    return [P_LL, P_UL, P_UR, P_LR]"
   ]
  },
  {
   "cell_type": "code",
   "execution_count": 50,
   "id": "a0d4f056-3f4d-4576-a39e-717e088f137b",
   "metadata": {},
   "outputs": [
    {
     "data": {
      "text/plain": [
       "[(322000, 5728000), (322000, 5729000), (323000, 5729000), (323000, 5728000)]"
      ]
     },
     "execution_count": 50,
     "metadata": {},
     "output_type": "execute_result"
    }
   ],
   "source": [
    "points_from_fname(fname)"
   ]
  },
  {
   "cell_type": "markdown",
   "id": "976f45c5",
   "metadata": {},
   "source": [
    "## Some other sources, maybe useful to develop an in-memory solution\n",
    "\n",
    "https://stackoverflow.com/questions/15352668/download-and-decompress-gzipped-file-in-memory\n",
    "\n",
    "https://gis.stackexchange.com/questions/42584/how-to-call-gdal-translate-from-python-code\n",
    "\n",
    "https://stackoverflow.com/questions/38353139/how-to-open-a-remote-file-with-gdal-in-python-through-a-flask-application\n",
    "\n",
    "https://gist.github.com/jleinonen/5781308\n"
   ]
  },
  {
   "cell_type": "code",
   "execution_count": null,
   "id": "e2c17916-725c-454d-b180-31cd69f2dbfb",
   "metadata": {},
   "outputs": [],
   "source": []
  },
  {
   "cell_type": "code",
   "execution_count": null,
   "id": "2077c8af-8619-4315-8d41-121a4f44c28a",
   "metadata": {},
   "outputs": [],
   "source": []
  },
  {
   "cell_type": "code",
   "execution_count": null,
   "id": "cf8d187f-991f-4ea9-b0b4-2193e3e0602c",
   "metadata": {},
   "outputs": [],
   "source": []
  },
  {
   "cell_type": "code",
   "execution_count": null,
   "id": "538ef72a-3e8b-4b2e-bca6-1ec9af5a2a2b",
   "metadata": {},
   "outputs": [],
   "source": []
  },
  {
   "cell_type": "code",
   "execution_count": null,
   "id": "bac26d7f-e9d0-4daf-b702-e83c1f8c1670",
   "metadata": {},
   "outputs": [],
   "source": []
  },
  {
   "cell_type": "code",
   "execution_count": null,
   "id": "606bab5d-9b38-488f-aebb-e6214c63f301",
   "metadata": {},
   "outputs": [],
   "source": []
  }
 ],
 "metadata": {
  "kernelspec": {
   "display_name": "Python 3 (ipykernel)",
   "language": "python",
   "name": "python3"
  },
  "language_info": {
   "codemirror_mode": {
    "name": "ipython",
    "version": 3
   },
   "file_extension": ".py",
   "mimetype": "text/x-python",
   "name": "python",
   "nbconvert_exporter": "python",
   "pygments_lexer": "ipython3",
   "version": "3.11.6"
  }
 },
 "nbformat": 4,
 "nbformat_minor": 5
}
