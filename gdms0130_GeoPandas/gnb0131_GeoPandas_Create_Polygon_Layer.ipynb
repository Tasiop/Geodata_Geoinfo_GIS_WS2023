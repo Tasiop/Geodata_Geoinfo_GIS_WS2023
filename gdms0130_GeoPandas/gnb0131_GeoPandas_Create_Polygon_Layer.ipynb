{
 "cells": [
  {
   "cell_type": "markdown",
   "id": "367f8479-141f-49e6-8e7d-dc3bf65c3027",
   "metadata": {},
   "source": [
    "# GeoPandas: Create Polygon Layer\n",
    "\n",
    "GeoPandas Documentation\n",
    "- General: https://geopandas.org/docs.html\n",
    "- Create GeoDataframe: https://geopandas.org/en/stable/docs/reference/api/geopandas.GeoDataFrame.html#geopandas.GeoDataFrame\n",
    "- Save to file: https://geopandas.org/en/stable/docs/reference/api/geopandas.GeoDataFrame.to_file.html\n",
    "\n",
    "Shapely Documentation\n",
    "- General: https://shapely.readthedocs.io/en/stable/manual.html\n",
    "- Polygon: https://shapely.readthedocs.io/en/stable/reference/shapely.Polygon.html"
   ]
  },
  {
   "cell_type": "markdown",
   "id": "8a0ccd5c-ee2f-414f-9d8d-34c225e672ca",
   "metadata": {},
   "source": [
    "## Task 1: Determine bounding box (BB) of Xanten.\n",
    "\n",
    "Open QGIS and open the layer `dvg1gem_nw.shp`. Use `EPSG:25832`. Determine the bounding box of the municipality Xanten. Google how to do it.\n",
    "\n",
    "What are the coordinates of the lower left (LL) and upper right (UR) corner, respectively?\n",
    "\n",
    "LL --> 317215,362  5721035,066\n",
    "\n",
    "UR --> 328192,073  5737002,181\n"
   ]
  },
  {
   "cell_type": "code",
   "execution_count": 1,
   "id": "558d5f38-3362-41b1-8799-a2c8df7cebb4",
   "metadata": {},
   "outputs": [],
   "source": [
    "minx = 317215.362\n",
    "miny = 5721035.066\n",
    "maxx = 328192.073\n",
    "maxy = 5737002.181"
   ]
  },
  {
   "cell_type": "code",
   "execution_count": 2,
   "id": "4a6999fd-20e0-4aef-85b5-fb9b8ec00876",
   "metadata": {},
   "outputs": [],
   "source": [
    "import pandas as pd \n",
    "df = pd.read_csv(\"../data/derived/xanten_bounds.csv\")\n",
    "\n",
    "minx = df['MINX'][0]\n",
    "miny = df['MINY'][0]\n",
    "maxx = df['MAXX'][0]\n",
    "maxy = df['MAXY'][0]"
   ]
  },
  {
   "cell_type": "markdown",
   "id": "67690dcf-5a2c-4e9c-8f06-9332b3d11073",
   "metadata": {},
   "source": [
    "## Task 2: Create a rectangle (polygon) encompassing the BB.\n",
    "\n",
    "The package shapely provides geometric object types such as Point, LineString, and Polygon. Look at the original shapely manual.\n",
    "\n",
    "Create a Polygon which is the minumum polygon enccompassing the BB with corner coordinates being multiples of 1000."
   ]
  },
  {
   "cell_type": "code",
   "execution_count": null,
   "id": "5f09a4e9-5611-431a-8096-59ffe56b6683",
   "metadata": {},
   "outputs": [],
   "source": []
  },
  {
   "cell_type": "code",
   "execution_count": 3,
   "id": "e48ffcd2-7460-4f40-b499-7721f1850e69",
   "metadata": {},
   "outputs": [],
   "source": [
    "import geopandas as gpd"
   ]
  },
  {
   "cell_type": "code",
   "execution_count": 4,
   "id": "42f5d4d4-195d-4d61-be97-8780a659273a",
   "metadata": {},
   "outputs": [],
   "source": [
    "from shapely.geometry import Polygon"
   ]
  },
  {
   "cell_type": "code",
   "execution_count": 5,
   "id": "a2b15c48-04b6-40b0-be9e-0c8e0f26700c",
   "metadata": {},
   "outputs": [],
   "source": [
    "minx = round(minx, -3)\n",
    "miny = round(miny, -3)\n",
    "maxx = round(maxx, -3)\n",
    "maxy = round(maxy, -3)"
   ]
  },
  {
   "cell_type": "code",
   "execution_count": 6,
   "id": "7091dcf6-8353-4c98-a472-4ad9645f2635",
   "metadata": {},
   "outputs": [
    {
     "data": {
      "image/svg+xml": [
       "<svg xmlns=\"http://www.w3.org/2000/svg\" xmlns:xlink=\"http://www.w3.org/1999/xlink\" width=\"300\" height=\"300\" viewBox=\"316360.0 5720360.0 12280.0 17280.0\" preserveAspectRatio=\"xMinYMin meet\"><g transform=\"matrix(1,0,0,-1,0,11458000.0)\"><path fill-rule=\"evenodd\" fill=\"#66cc99\" stroke=\"#555555\" stroke-width=\"115.2\" opacity=\"0.6\" d=\"M 317000.0,5721000.0 L 317000.0,5737000.0 L 328000.0,5737000.0 L 328000.0,5721000.0 L 317000.0,5721000.0 z\" /></g></svg>"
      ],
      "text/plain": [
       "<POLYGON ((317000 5721000, 317000 5737000, 328000 5737000, 328000 5721000, 3...>"
      ]
     },
     "execution_count": 6,
     "metadata": {},
     "output_type": "execute_result"
    }
   ],
   "source": [
    "polygon=Polygon([(minx, miny), (minx, maxy), (maxx, maxy), (maxx, miny)])\n",
    "polygon"
   ]
  },
  {
   "cell_type": "code",
   "execution_count": null,
   "id": "2abf3f98-7f22-4482-b959-d8ef9ded323e",
   "metadata": {},
   "outputs": [],
   "source": []
  },
  {
   "cell_type": "markdown",
   "id": "0cdb5484-0160-4b62-ac7c-7eab35191947",
   "metadata": {},
   "source": [
    "## Task 3: Create a GeoPandas Dataframe (gdf) with the correct CRS.\n",
    "\n",
    "Create a gdf with the polygon as the geometry column and a string column in the format \"E:{easting},N:{northing}\" where you replae the place holders easting and northing with the actual coordinates of the LL corner.  "
   ]
  },
  {
   "cell_type": "code",
   "execution_count": 7,
   "id": "77b5bee4-29c9-4ccd-a1da-61ab38a02bd7",
   "metadata": {},
   "outputs": [
    {
     "data": {
      "text/html": [
       "<div>\n",
       "<style scoped>\n",
       "    .dataframe tbody tr th:only-of-type {\n",
       "        vertical-align: middle;\n",
       "    }\n",
       "\n",
       "    .dataframe tbody tr th {\n",
       "        vertical-align: top;\n",
       "    }\n",
       "\n",
       "    .dataframe thead th {\n",
       "        text-align: right;\n",
       "    }\n",
       "</style>\n",
       "<table border=\"1\" class=\"dataframe\">\n",
       "  <thead>\n",
       "    <tr style=\"text-align: right;\">\n",
       "      <th></th>\n",
       "      <th>polygon_name</th>\n",
       "      <th>geometry</th>\n",
       "    </tr>\n",
       "  </thead>\n",
       "  <tbody>\n",
       "    <tr>\n",
       "      <th>0</th>\n",
       "      <td>bounding box</td>\n",
       "      <td>POLYGON ((317000.000 5721000.000, 317000.000 5...</td>\n",
       "    </tr>\n",
       "  </tbody>\n",
       "</table>\n",
       "</div>"
      ],
      "text/plain": [
       "   polygon_name                                           geometry\n",
       "0  bounding box  POLYGON ((317000.000 5721000.000, 317000.000 5..."
      ]
     },
     "execution_count": 7,
     "metadata": {},
     "output_type": "execute_result"
    }
   ],
   "source": [
    "from shapely.geometry import Point\n",
    "d = {'col1': ['name1', 'name2'], 'geometry': [Point(1, 2), Point(2, 1)]}\n",
    "gdf = gpd.GeoDataFrame(d, crs=\"EPSG:4326\")\n",
    "gdf\n",
    "\n",
    "from shapely.geometry import Point\n",
    "d = {'polygon_name': ['bounding box'], 'geometry': [polygon]}\n",
    "gdf = gpd.GeoDataFrame(d, crs=\"EPSG:25832\")\n",
    "gdf\n",
    "\n"
   ]
  },
  {
   "cell_type": "code",
   "execution_count": null,
   "id": "2abc4b6f-df59-4873-a352-3f8894119e00",
   "metadata": {},
   "outputs": [],
   "source": []
  },
  {
   "cell_type": "markdown",
   "id": "dc4b33d3-d4eb-48e1-a8e1-d7a38396741c",
   "metadata": {},
   "source": [
    "## Task 4: Save the layer\n",
    "\n",
    "Save the layer in different file formats, e.g. shape file, GeoJSON, geopackage, etc.\n",
    "\n",
    "Load the layer into QGIS and compare the results. Check the attribute table of your layer."
   ]
  },
  {
   "cell_type": "code",
   "execution_count": 8,
   "id": "a3a1054b-e475-483f-91f9-72e7436c9eab",
   "metadata": {},
   "outputs": [
    {
     "name": "stderr",
     "output_type": "stream",
     "text": [
      "C:\\Users\\tasio\\AppData\\Local\\Temp\\ipykernel_13004\\267739768.py:1: UserWarning: Column names longer than 10 characters will be truncated when saved to ESRI Shapefile.\n",
      "  gdf.to_file(\"../data/derived/xanten_bb.shp\")\n"
     ]
    }
   ],
   "source": [
    "gdf.to_file(\"../data/derived/xanten_bb.shp\") \n",
    "# this is done to save the file in the specific directory showed\n",
    "\n",
    "\n",
    "#countries_gdf.to_file(\"countries.geojson\", driver='GeoJSON')\n",
    "\n",
    "\n",
    "#countries_gdf.to_file(\"package.gpkg\", layer='countries', driver=\"GPKG\")\n",
    "#cities_gdf.to_file(\"package.gpkg\", layer='cities', driver=\"GPKG\")"
   ]
  },
  {
   "cell_type": "code",
   "execution_count": null,
   "id": "7b6023bf-b1c1-49a0-bb28-54ac25853e89",
   "metadata": {},
   "outputs": [],
   "source": []
  },
  {
   "cell_type": "code",
   "execution_count": null,
   "id": "45f83fda-e764-495c-95f4-2fc2a0066fa7",
   "metadata": {},
   "outputs": [],
   "source": []
  }
 ],
 "metadata": {
  "kernelspec": {
   "display_name": "Python 3 (ipykernel)",
   "language": "python",
   "name": "python3"
  },
  "language_info": {
   "codemirror_mode": {
    "name": "ipython",
    "version": 3
   },
   "file_extension": ".py",
   "mimetype": "text/x-python",
   "name": "python",
   "nbconvert_exporter": "python",
   "pygments_lexer": "ipython3",
   "version": "3.11.6"
  }
 },
 "nbformat": 4,
 "nbformat_minor": 5
}
