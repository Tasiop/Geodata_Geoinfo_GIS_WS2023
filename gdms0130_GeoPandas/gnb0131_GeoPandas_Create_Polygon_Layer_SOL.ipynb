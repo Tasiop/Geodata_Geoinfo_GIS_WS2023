{
 "cells": [
  {
   "cell_type": "markdown",
   "id": "9b237a6a",
   "metadata": {},
   "source": [
    "# GeoPandas: Create Polygon Layer\n",
    "\n",
    "https://geopandas.org/docs.html\n",
    "\n",
    "https://shapely.readthedocs.io/en/stable/manual.html"
   ]
  },
  {
   "cell_type": "markdown",
   "id": "13933bc8",
   "metadata": {},
   "source": [
    "## Task 1: Determine bounding box (BB) of Xanten.\n",
    "\n",
    "Open QGIS and open the layer `dvg1gem_nw.shp`. Use `EPSG:25832`. Determine the bounding box of the municipality Xanten. Google how to do it.\n",
    "\n",
    "What are the coordinates of the lower left (LL) and upper right (UR) corner, respectively?\n",
    "\n"
   ]
  },
  {
   "cell_type": "code",
   "execution_count": null,
   "id": "16ed5d68-8698-4e5c-a4df-1b86220bfa0b",
   "metadata": {},
   "outputs": [],
   "source": []
  },
  {
   "cell_type": "code",
   "execution_count": 2,
   "id": "58b11fe0",
   "metadata": {
    "tags": []
   },
   "outputs": [],
   "source": [
    "# BB Xanten\n",
    "LL = [317000, 5721000]\n",
    "UR = [328000, 5737000]\n",
    "\n",
    "import geopandas as pd\n",
    "import shapely"
   ]
  },
  {
   "cell_type": "code",
   "execution_count": 6,
   "id": "fbf79a8e-db4e-4e96-989b-8ea464501e53",
   "metadata": {
    "tags": []
   },
   "outputs": [],
   "source": [
    "\n",
    "point = shapely.geometry.Point(LL)\n",
    "line = shapely.geometry.LineString([LL,UR])\n",
    "UL = [LL[0],UR[1]]\n",
    "LR = [UR[0],LL[1]]\n",
    "polygon = shapely.geometry.Polygon([UR,LR,LL,UL])"
   ]
  },
  {
   "cell_type": "code",
   "execution_count": 8,
   "id": "a485b044-004e-46f6-aa6f-54623ff32a0c",
   "metadata": {
    "tags": []
   },
   "outputs": [
    {
     "data": {
      "image/svg+xml": [
       "<svg xmlns=\"http://www.w3.org/2000/svg\" xmlns:xlink=\"http://www.w3.org/1999/xlink\" width=\"100.0\" height=\"100.0\" viewBox=\"316999.0 5720999.0 2.0 2.0\" preserveAspectRatio=\"xMinYMin meet\"><g transform=\"matrix(1,0,0,-1,0,11442000.0)\"><circle cx=\"317000.0\" cy=\"5721000.0\" r=\"0.06\" stroke=\"#555555\" stroke-width=\"0.02\" fill=\"#66cc99\" opacity=\"0.6\" /></g></svg>"
      ],
      "text/plain": [
       "<POINT (3.17e+05 5.72e+06)>"
      ]
     },
     "execution_count": 8,
     "metadata": {},
     "output_type": "execute_result"
    }
   ],
   "source": []
  },
  {
   "cell_type": "markdown",
   "id": "1ab0a7de",
   "metadata": {},
   "source": [
    "## Task 2: Create a rectangle (polygon) encompassing the BB.\n",
    "\n",
    "The package shapely provides geometric object types such as Point, LineString, and Polygon. Look at the original shapely manual.\n",
    "\n",
    "Create a Polygon which is the minumum polygon enccompassing the BB with corner coordinates being multiples of 1000."
   ]
  },
  {
   "cell_type": "code",
   "execution_count": 19,
   "id": "87fdfa6a",
   "metadata": {},
   "outputs": [],
   "source": [
    "LL = [317000, 5721000]\n",
    "UR = [329000, 5738000]\n",
    "\n",
    "minx = min(LL[0],UR[0])\n",
    "maxx = max(LL[0],UR[0])\n",
    "miny = min(LL[1],UR[1])\n",
    "maxy = max(LL[1],UR[1])"
   ]
  },
  {
   "cell_type": "code",
   "execution_count": 19,
   "id": "4c6b1d04",
   "metadata": {
    "tags": []
   },
   "outputs": [],
   "source": [
    "import geopandas as gpd"
   ]
  },
  {
   "cell_type": "code",
   "execution_count": 21,
   "id": "bebcd0f2",
   "metadata": {},
   "outputs": [],
   "source": [
    "from shapely.geometry import Polygon"
   ]
  },
  {
   "cell_type": "code",
   "execution_count": 23,
   "id": "bbd50ee1",
   "metadata": {},
   "outputs": [],
   "source": [
    "polygon = Polygon([[minx,miny], [minx,maxy], [maxx,maxy], [maxx,miny]])"
   ]
  },
  {
   "cell_type": "code",
   "execution_count": 25,
   "id": "2e2c70e4",
   "metadata": {},
   "outputs": [
    {
     "data": {
      "image/svg+xml": [
       "<svg xmlns=\"http://www.w3.org/2000/svg\" xmlns:xlink=\"http://www.w3.org/1999/xlink\" width=\"300\" height=\"300\" viewBox=\"316320.0 5720320.0 13360.0 18360.0\" preserveAspectRatio=\"xMinYMin meet\"><g transform=\"matrix(1,0,0,-1,0,11459000.0)\"><path fill-rule=\"evenodd\" fill=\"#66cc99\" stroke=\"#555555\" stroke-width=\"122.4\" opacity=\"0.6\" d=\"M 317000.0,5721000.0 L 317000.0,5738000.0 L 329000.0,5738000.0 L 329000.0,5721000.0 L 317000.0,5721000.0 z\" /></g></svg>"
      ],
      "text/plain": [
       "<POLYGON ((3.17e+05 5.72e+06, 3.17e+05 5.74e+06, 3.29e+05 5.74e+06, 3.29e+05...>"
      ]
     },
     "execution_count": 25,
     "metadata": {},
     "output_type": "execute_result"
    }
   ],
   "source": [
    "polygon"
   ]
  },
  {
   "cell_type": "markdown",
   "id": "3712e4ae",
   "metadata": {},
   "source": [
    "## Task 3: Create a GeoPandas Dataframe (gdf) with the correct CRS.\n",
    "\n",
    "Create a gdf with the polygon as the geometry column and a string column in the format \"E:{easting},N:{northing}\" where you replae the place holders easting and northing with the actual coordinates of the LL corner.  "
   ]
  },
  {
   "cell_type": "code",
   "execution_count": null,
   "id": "08092f4d-5f70-4c8b-95aa-9e44787a9b1d",
   "metadata": {},
   "outputs": [],
   "source": [
    "gpd.GeoDataFrame(data=None, *args, geometry=None, crs=None, **kwargs)"
   ]
  },
  {
   "cell_type": "code",
   "execution_count": 21,
   "id": "69b5e7c9",
   "metadata": {
    "tags": []
   },
   "outputs": [
    {
     "data": {
      "text/html": [
       "<div>\n",
       "<style scoped>\n",
       "    .dataframe tbody tr th:only-of-type {\n",
       "        vertical-align: middle;\n",
       "    }\n",
       "\n",
       "    .dataframe tbody tr th {\n",
       "        vertical-align: top;\n",
       "    }\n",
       "\n",
       "    .dataframe thead th {\n",
       "        text-align: right;\n",
       "    }\n",
       "</style>\n",
       "<table border=\"1\" class=\"dataframe\">\n",
       "  <thead>\n",
       "    <tr style=\"text-align: right;\">\n",
       "      <th></th>\n",
       "      <th>polygons</th>\n",
       "      <th>geometry</th>\n",
       "    </tr>\n",
       "  </thead>\n",
       "  <tbody>\n",
       "    <tr>\n",
       "      <th>0</th>\n",
       "      <td>poly_name</td>\n",
       "      <td>POLYGON ((328000.00000 5737000.00000, 328000.0...</td>\n",
       "    </tr>\n",
       "  </tbody>\n",
       "</table>\n",
       "</div>"
      ],
      "text/plain": [
       "    polygons                                           geometry\n",
       "0  poly_name  POLYGON ((328000.00000 5737000.00000, 328000.0..."
      ]
     },
     "execution_count": 21,
     "metadata": {},
     "output_type": "execute_result"
    }
   ],
   "source": [
    "from shapely.geometry import Polygon\n",
    "d = {'polygons': ['poly_name'], 'geometry': [polygon]}\n",
    "gdf = gpd.GeoDataFrame(d, crs=\"EPSG:4326\")\n",
    "gdf\n"
   ]
  },
  {
   "cell_type": "markdown",
   "id": "7516033c",
   "metadata": {},
   "source": [
    "## Task 4: Save the layer\n",
    "\n",
    "Save the layer in different file formats, e.g. shape file, GeoJSON, geopackage, etc.\n",
    "\n",
    "Load the layer into QGIS and compare the results. Check the attribute table of your layer."
   ]
  },
  {
   "cell_type": "code",
   "execution_count": 37,
   "id": "b19a250c",
   "metadata": {},
   "outputs": [],
   "source": [
    "gdf.to_file(\"../data/xanten_bb.shp\")"
   ]
  },
  {
   "cell_type": "code",
   "execution_count": null,
   "id": "ebb9a4fc",
   "metadata": {},
   "outputs": [],
   "source": [
    "GeoDataFrame.to_file(filename, driver=None, schema=None, index=None, **kwargs)"
   ]
  }
 ],
 "metadata": {
  "kernelspec": {
   "display_name": "Python 3 (ipykernel)",
   "language": "python",
   "name": "python3"
  },
  "language_info": {
   "codemirror_mode": {
    "name": "ipython",
    "version": 3
   },
   "file_extension": ".py",
   "mimetype": "text/x-python",
   "name": "python",
   "nbconvert_exporter": "python",
   "pygments_lexer": "ipython3",
   "version": "3.9.18"
  }
 },
 "nbformat": 4,
 "nbformat_minor": 5
}
