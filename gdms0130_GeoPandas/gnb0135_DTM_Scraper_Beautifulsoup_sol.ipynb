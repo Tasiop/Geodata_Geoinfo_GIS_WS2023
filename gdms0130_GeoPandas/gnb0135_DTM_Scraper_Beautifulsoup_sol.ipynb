{
 "cells": [
  {
   "cell_type": "code",
   "execution_count": null,
   "id": "f292b8d7",
   "metadata": {},
   "outputs": [],
   "source": [
    "\"GitHub/Geodata_Geoinfo_GIS_WS2023/data/derived/xanten_bounds.csv\""
   ]
  },
  {
   "cell_type": "markdown",
   "id": "568defe9",
   "metadata": {},
   "source": [
    "# Extract DTM file names from HTML table and create polygon vector layer with the tiles' BBs\n",
    "\n",
    "The German Federal State of North Rhine-Westphalia (NRW or NW) provides wonderful and huge open data on its **[NRW Open Geodata Portal](https://www.opengeodata.nrw.de/produkte/)**.\n",
    "\n",
    "One of the fantastic data sets is the [**Digital Terrain Model (DTM) tiles of NRW in 1m horizontal resolution**](https://www.opengeodata.nrw.de/produkte/geobasis/hm/dgm1_xyz/dgm1_xyz/). This link provides a table with the filenames and download links of 35860 DTM tiles covering NRW of 1 km² size.\n",
    "\n",
    "To see on a map where these tiles a squared polygon is created for each tile with shows location and extent of the tiles. The coordinates of the corner of the squares are derived from the filename which contains the lower left corner and the tile size (here: 1000 x 1000 grid points with 1m spacing, yielding 1000 m x 1000 m total tile size).  \n",
    "\n",
    "Web scraping ([Wikipedia](https://en.wikipedia.org/wiki/Web_scraping)) with [`BeautifulSoup`](https://www.crummy.com/software/BeautifulSoup/bs4/doc/) is used to extract the DTM filenames from the HTML table listing all the files [here](https://www.opengeodata.nrw.de/produkte/geobasis/hm/dgm1_xyz/dgm1_xyz/)."
   ]
  },
  {
   "cell_type": "code",
   "execution_count": 1,
   "id": "fbeebc80",
   "metadata": {},
   "outputs": [],
   "source": [
    "dtm_url = r\"https://www.opengeodata.nrw.de/produkte/geobasis/hm/dgm1_xyz/dgm1_xyz/\""
   ]
  },
  {
   "cell_type": "code",
   "execution_count": 2,
   "id": "902f6430",
   "metadata": {},
   "outputs": [],
   "source": [
    "data_dir = r\"./data/derived/NRW_DTM_NRW_EPSG_25832_Tiles_BB/\"\n",
    "out_fname = r\"NRW_DTM_NRW_EPSG_25832_Tiles_BB.gpkg\""
   ]
  },
  {
   "cell_type": "code",
   "execution_count": 5,
   "id": "dd97c1be",
   "metadata": {
    "tags": []
   },
   "outputs": [],
   "source": [
    "import requests\n",
    "from bs4 import BeautifulSoup\n",
    "from shapely.geometry import Polygon\n",
    "import geopandas as gpd\n",
    "import os"
   ]
  },
  {
   "cell_type": "code",
   "execution_count": 21,
   "id": "6e9402c8",
   "metadata": {},
   "outputs": [],
   "source": [
    "os.makedirs(data_dir,exist_ok = True)"
   ]
  },
  {
   "cell_type": "code",
   "execution_count": 22,
   "id": "fa6924bf",
   "metadata": {},
   "outputs": [],
   "source": [
    "def points_from_fname(fname, Dx=1000, Dy=1000):\n",
    "    \"\"\"\n",
    "    Usage: [(x_LL,y_LL),(x_UL,y_UL),(x_UR,y_UR),(x_LR,y_LR)]  = points_from_fname(...)\n",
    "       \n",
    "    Returns a list of four 2-tuples representing the corner points of a square. \n",
    "    Create corner points of the squared bounding box for a NRW DTM tile in ESPG:25832.\n",
    "    URL of NRW DTM tile collection: https://www.opengeodata.nrw.de/produkte/geobasis/hm/dgm1_xyz/dgm1_xyz/\n",
    "    The coordinates of the lower left corner are extracted from the filename which is \n",
    "    formatted like 'dgm1_32_280_5652_1_nw.xyz.gz'. Filename elements:\n",
    "    dgm1: name of product with 1x1 m² grid cell size, 32: UTM Zone 32, EPSG:25832, \n",
    "    280: Easting in km, 5652: Northing in km, 1: 1m x 1m grid cell size, nw: North Rhine-Wastphalia,\n",
    "    xyz: ASCII fixed width file format with three columns (easting, northing, elevation), gz: GNU zipped\n",
    "    \"\"\"\n",
    "    \n",
    "    x_Left  = int(fname.split(\"_\")[2])*1000\n",
    "    y_Low   = int(fname.split(\"_\")[3])*1000\n",
    "    x_Right = x_Left + Dx\n",
    "    y_Up    = y_Low + Dy\n",
    "\n",
    "    P_LL = (x_Left,y_Low)\n",
    "    P_UL = (x_Left,y_Up)\n",
    "    P_UR = (x_Right,y_Up)\n",
    "    P_LR = (x_Right,y_Low)\n",
    "    \n",
    "    return [P_LL, P_UL, P_UR, P_LR]"
   ]
  },
  {
   "cell_type": "code",
   "execution_count": 23,
   "id": "76ce5757",
   "metadata": {},
   "outputs": [
    {
     "name": "stdout",
     "output_type": "stream",
     "text": [
      "Help on function points_from_fname in module __main__:\n",
      "\n",
      "points_from_fname(fname, Dx=1000, Dy=1000)\n",
      "    Usage: [(x_LL,y_LL),(x_UL,y_UL),(x_UR,y_UR),(x_LR,y_LR)]  = points_from_fname(...)\n",
      "       \n",
      "    Returns a list of four 2-tuples representing the corner points of a square. \n",
      "    Create corner points of the squared bounding box for a NRW DTM tile in ESPG:25832.\n",
      "    URL of NRW DTM tile collection: https://www.opengeodata.nrw.de/produkte/geobasis/hm/dgm1_xyz/dgm1_xyz/\n",
      "    The coordinates of the lower left corner are extracted from the filename which is \n",
      "    formatted like 'dgm1_32_280_5652_1_nw.xyz.gz'. Filename elements:\n",
      "    dgm1: name of product with 1x1 m² grid cell size, 32: UTM Zone 32, EPSG:25832, \n",
      "    280: Easting in km, 5652: Northing in km, 1: 1m x 1m grid cell size, nw: North Rhine-Wastphalia,\n",
      "    xyz: ASCII fixed width file format with three columns (easting, northing, elevation), gz: GNU zipped\n",
      "\n"
     ]
    }
   ],
   "source": [
    "help(points_from_fname)"
   ]
  },
  {
   "cell_type": "code",
   "execution_count": 37,
   "id": "59fb85a9",
   "metadata": {},
   "outputs": [
    {
     "name": "stdout",
     "output_type": "stream",
     "text": [
      "Collecting lxml\n",
      "  Downloading lxml-4.9.3.tar.gz (3.6 MB)\n",
      "\u001b[2K     \u001b[90m━━━━━━━━━━━━━━━━━━━━━━━━━━━━━━━━━━━━━━━━\u001b[0m \u001b[32m3.6/3.6 MB\u001b[0m \u001b[31m11.5 MB/s\u001b[0m eta \u001b[36m0:00:00\u001b[0ma \u001b[36m0:00:01\u001b[0m\n",
      "\u001b[?25h  Preparing metadata (setup.py) ... \u001b[?25ldone\n",
      "\u001b[?25hBuilding wheels for collected packages: lxml\n",
      "  Building wheel for lxml (setup.py) ... \u001b[?25ldone\n",
      "\u001b[?25h  Created wheel for lxml: filename=lxml-4.9.3-cp39-cp39-macosx_11_0_arm64.whl size=1567242 sha256=4c8b986a40ef300057c1ce572151f910cb7179e70169f16d6fb0142e3908aa02\n",
      "  Stored in directory: /Users/sac/Library/Caches/pip/wheels/5c/05/aa/530f84480d476c5bb9ea09877eea78fb144ec047fbb00ee2ca\n",
      "Successfully built lxml\n",
      "Installing collected packages: lxml\n",
      "Successfully installed lxml-4.9.3\n"
     ]
    }
   ],
   "source": [
    "#!pip install lxml"
   ]
  },
  {
   "cell_type": "code",
   "execution_count": 41,
   "id": "d8c6031e",
   "metadata": {},
   "outputs": [],
   "source": [
    "r = requests.get(dtm_url)\n",
    "soup = BeautifulSoup(r.content, 'html.parser')"
   ]
  },
  {
   "cell_type": "markdown",
   "id": "c9aeac12",
   "metadata": {},
   "source": [
    "## content"
   ]
  },
  {
   "cell_type": "code",
   "execution_count": 42,
   "id": "a5496d71",
   "metadata": {},
   "outputs": [],
   "source": [
    "#soup"
   ]
  },
  {
   "cell_type": "code",
   "execution_count": 45,
   "id": "9542238e",
   "metadata": {},
   "outputs": [
    {
     "data": {
      "text/plain": [
       "b'<?xml version=\"1.0\" encoding=\"UTF-8\" standalone=\"yes\" ?>\\n<opengeodata>\\n\\t<metafiles>\\n\\t\\t<metafile name'"
      ]
     },
     "execution_count": 45,
     "metadata": {},
     "output_type": "execute_result"
    }
   ],
   "source": [
    "r.content[:100]"
   ]
  },
  {
   "cell_type": "code",
   "execution_count": 46,
   "id": "6505b2cf",
   "metadata": {},
   "outputs": [],
   "source": [
    "tag_list = soup.find_all('file')\n",
    "fname_list = [tag[\"name\"] for tag in tag_list]\n",
    "geom_list = [Polygon(points_from_fname(fname)) for fname in fname_list]"
   ]
  },
  {
   "cell_type": "code",
   "execution_count": 51,
   "id": "bec3ffc3",
   "metadata": {},
   "outputs": [],
   "source": [
    "# fname: polygon attribute, geometry: polygon geometry \n",
    "dic = {'fname': fname_list, 'geometry': geom_list}\n",
    "gdf = gpd.GeoDataFrame(data = dic, crs=\"EPSG:25832\")"
   ]
  },
  {
   "cell_type": "code",
   "execution_count": 52,
   "id": "0e653b36",
   "metadata": {},
   "outputs": [
    {
     "name": "stdout",
     "output_type": "stream",
     "text": [
      "gdf.shape: (35860, 2)\n"
     ]
    },
    {
     "data": {
      "text/html": [
       "<div>\n",
       "<style scoped>\n",
       "    .dataframe tbody tr th:only-of-type {\n",
       "        vertical-align: middle;\n",
       "    }\n",
       "\n",
       "    .dataframe tbody tr th {\n",
       "        vertical-align: top;\n",
       "    }\n",
       "\n",
       "    .dataframe thead th {\n",
       "        text-align: right;\n",
       "    }\n",
       "</style>\n",
       "<table border=\"1\" class=\"dataframe\">\n",
       "  <thead>\n",
       "    <tr style=\"text-align: right;\">\n",
       "      <th></th>\n",
       "      <th>fname</th>\n",
       "      <th>geometry</th>\n",
       "    </tr>\n",
       "  </thead>\n",
       "  <tbody>\n",
       "    <tr>\n",
       "      <th>0</th>\n",
       "      <td>dgm1_32_280_5652_1_nw.xyz.gz</td>\n",
       "      <td>POLYGON ((280000.000 5652000.000, 280000.000 5...</td>\n",
       "    </tr>\n",
       "    <tr>\n",
       "      <th>1</th>\n",
       "      <td>dgm1_32_280_5653_1_nw.xyz.gz</td>\n",
       "      <td>POLYGON ((280000.000 5653000.000, 280000.000 5...</td>\n",
       "    </tr>\n",
       "    <tr>\n",
       "      <th>2</th>\n",
       "      <td>dgm1_32_280_5654_1_nw.xyz.gz</td>\n",
       "      <td>POLYGON ((280000.000 5654000.000, 280000.000 5...</td>\n",
       "    </tr>\n",
       "    <tr>\n",
       "      <th>3</th>\n",
       "      <td>dgm1_32_280_5655_1_nw.xyz.gz</td>\n",
       "      <td>POLYGON ((280000.000 5655000.000, 280000.000 5...</td>\n",
       "    </tr>\n",
       "    <tr>\n",
       "      <th>4</th>\n",
       "      <td>dgm1_32_280_5656_1_nw.xyz.gz</td>\n",
       "      <td>POLYGON ((280000.000 5656000.000, 280000.000 5...</td>\n",
       "    </tr>\n",
       "  </tbody>\n",
       "</table>\n",
       "</div>"
      ],
      "text/plain": [
       "                          fname  \\\n",
       "0  dgm1_32_280_5652_1_nw.xyz.gz   \n",
       "1  dgm1_32_280_5653_1_nw.xyz.gz   \n",
       "2  dgm1_32_280_5654_1_nw.xyz.gz   \n",
       "3  dgm1_32_280_5655_1_nw.xyz.gz   \n",
       "4  dgm1_32_280_5656_1_nw.xyz.gz   \n",
       "\n",
       "                                            geometry  \n",
       "0  POLYGON ((280000.000 5652000.000, 280000.000 5...  \n",
       "1  POLYGON ((280000.000 5653000.000, 280000.000 5...  \n",
       "2  POLYGON ((280000.000 5654000.000, 280000.000 5...  \n",
       "3  POLYGON ((280000.000 5655000.000, 280000.000 5...  \n",
       "4  POLYGON ((280000.000 5656000.000, 280000.000 5...  "
      ]
     },
     "execution_count": 52,
     "metadata": {},
     "output_type": "execute_result"
    }
   ],
   "source": [
    "print(f\"gdf.shape: {gdf.shape}\")\n",
    "gdf.head()"
   ]
  },
  {
   "cell_type": "code",
   "execution_count": 29,
   "id": "3919a167",
   "metadata": {},
   "outputs": [
    {
     "name": "stdout",
     "output_type": "stream",
     "text": [
      "Write gdf to file ../data/derived/NRW_DTM_NRW_EPSG_25832_Tiles_BB/NRW_DTM_NRW_EPSG_25832_Tiles_BB.gpkg\n"
     ]
    }
   ],
   "source": [
    "print(f\"Write gdf to file {data_dir + out_fname:s}\")\n",
    "gdf.to_file(data_dir + out_fname, driver = \"GPKG\") "
   ]
  },
  {
   "cell_type": "code",
   "execution_count": null,
   "id": "f9d7ceec",
   "metadata": {},
   "outputs": [],
   "source": []
  }
 ],
 "metadata": {
  "kernelspec": {
   "display_name": "Python 3 (ipykernel)",
   "language": "python",
   "name": "python3"
  },
  "language_info": {
   "codemirror_mode": {
    "name": "ipython",
    "version": 3
   },
   "file_extension": ".py",
   "mimetype": "text/x-python",
   "name": "python",
   "nbconvert_exporter": "python",
   "pygments_lexer": "ipython3",
   "version": "3.9.18"
  }
 },
 "nbformat": 4,
 "nbformat_minor": 5
}
