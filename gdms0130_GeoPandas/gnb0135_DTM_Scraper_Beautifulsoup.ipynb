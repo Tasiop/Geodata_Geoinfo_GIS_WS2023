{
 "cells": [
  {
   "cell_type": "markdown",
   "id": "f0d47bdc",
   "metadata": {},
   "source": [
    "# Extract DTM file names from HTML table and create polygon vector layer with the tiles' BBs\n",
    "\n",
    "The German Federal State of North Rhine-Westphalia (NRW or NW) provides wonderful and huge open data on its **[NRW Open Geodata Portal](https://www.opengeodata.nrw.de/produkte/)**.\n",
    "\n",
    "One of the fantastic data sets is the [**Digital Terrain Model (DTM) tiles of NRW in 1m horizontal resolution**](https://www.opengeodata.nrw.de/produkte/geobasis/hm/dgm1_xyz/dgm1_xyz/). This link provides a table with the filenames and download links of 35860 DTM tiles covering NRW of 1 km² size.\n",
    "\n",
    "To see on a map where these tiles a squared polygon is created for each tile with shows location and extent of the tiles. The coordinates of the corner of the squares are derived from the filename which contains the lower left corner and the tile size (here: 1000 x 1000 grid points with 1m spacing, yielding 1000 m x 1000 m total tile size).  \n",
    "\n",
    "Web scraping ([Wikipedia](https://en.wikipedia.org/wiki/Web_scraping)) with [`BeautifulSoup`](https://www.crummy.com/software/BeautifulSoup/bs4/doc/) is used to extract the DTM filenames from the HTML table listing all the files [here](https://www.opengeodata.nrw.de/produkte/geobasis/hm/dgm1_xyz/dgm1_xyz/)."
   ]
  },
  {
   "cell_type": "code",
   "execution_count": 1,
   "id": "8cbef23e",
   "metadata": {
    "tags": []
   },
   "outputs": [],
   "source": [
    "dtm_url = r\"https://www.opengeodata.nrw.de/produkte/geobasis/hm/dgm1_xyz/dgm1_xyz/\""
   ]
  },
  {
   "cell_type": "code",
   "execution_count": 24,
   "id": "028aa1d0",
   "metadata": {
    "tags": []
   },
   "outputs": [],
   "source": [
    "data_dir = r\"../data/derived/NRW_DTM_NRW_EPSG_25832_Tiles_BB/\"\n",
    "out_fname = r\"NRW_DTM_NRW_EPSG_25832_Tiles_BB.gpkg\""
   ]
  },
  {
   "cell_type": "code",
   "execution_count": 9,
   "id": "3035fe86",
   "metadata": {
    "tags": []
   },
   "outputs": [],
   "source": [
    "import requests\n",
    "from bs4 import BeautifulSoup\n",
    "from shapely.geometry import Polygon\n",
    "import geopandas as gpd\n",
    "import os"
   ]
  },
  {
   "cell_type": "code",
   "execution_count": 14,
   "id": "a11ed992",
   "metadata": {},
   "outputs": [],
   "source": [
    "os.makedirs(data_dir,exist_ok = True)"
   ]
  },
  {
   "cell_type": "code",
   "execution_count": 2,
   "id": "7c7822eb-ff79-47d9-b869-02a0eba33a06",
   "metadata": {
    "tags": []
   },
   "outputs": [
    {
     "data": {
      "text/plain": [
       "'dgm1_32_280_5652_1_nw.xyz.gz'"
      ]
     },
     "execution_count": 2,
     "metadata": {},
     "output_type": "execute_result"
    }
   ],
   "source": [
    "example = \"dgm1_32_280_5652_1_nw.xyz.gz\"\n",
    "example"
   ]
  },
  {
   "cell_type": "code",
   "execution_count": 3,
   "id": "5f75531b",
   "metadata": {
    "tags": []
   },
   "outputs": [
    {
     "data": {
      "text/plain": [
       "['dgm1', '32', '280', '5652', '1', 'nw.xyz.gz']"
      ]
     },
     "execution_count": 3,
     "metadata": {},
     "output_type": "execute_result"
    }
   ],
   "source": [
    "example = \"dgm1_32_280_5652_1_nw.xyz.gz\"\n",
    "example.split(\"_\")"
   ]
  },
  {
   "cell_type": "code",
   "execution_count": 4,
   "id": "39c5264f",
   "metadata": {
    "tags": []
   },
   "outputs": [],
   "source": [
    "def points_from_fname(fname, Dx=1000, Dy=1000):\n",
    "    \"\"\"\n",
    "    Usage: [(x_LL,y_LL),(x_UL,y_UL),(x_UR,y_UR),(x_LR,y_LR)]  = points_from_fname(...)\n",
    "       \n",
    "    Returns a list of four 2-tuples representing the corner points of a square. \n",
    "    Create corner points of the squared bounding box for a NRW DTM tile in ESPG:25832.\n",
    "    URL of NRW DTM tile collection: https://www.opengeodata.nrw.de/produkte/geobasis/hm/dgm1_xyz/dgm1_xyz/\n",
    "    The coordinates of the lower left corner are extracted from the filename which is \n",
    "    formatted like 'dgm1_32_280_5652_1_nw.xyz.gz'. Filename elements:\n",
    "    dgm1: name of product with 1x1 m² grid cell size, 32: UTM Zone 32, EPSG:25832, \n",
    "    280: Easting in km, 5652: Northing in km, 1: 1m x 1m grid cell size, nw: North Rhine-Wastphalia,\n",
    "    xyz: ASCII fixed width file format with three columns (easting, northing, elevation), gz: GNU zipped\n",
    "    \"\"\"\n",
    "    \n",
    "    x_Left  = int(fname.split(\"_\")[2])*1000\n",
    "    y_Low   = int(fname.split(\"_\")[3])*1000\n",
    "    x_Right = x_Left + Dx\n",
    "    y_Up    = y_Low + Dy\n",
    "\n",
    "    P_LL = (x_Left,y_Low)\n",
    "    P_UL = (x_Left,y_Up)\n",
    "    P_UR = (x_Right,y_Up)\n",
    "    P_LR = (x_Right,y_Low)\n",
    "    \n",
    "    return [P_LL, P_UL, P_UR, P_LR]"
   ]
  },
  {
   "cell_type": "code",
   "execution_count": 5,
   "id": "1e5d6ce0-bdf2-439d-b9d9-86db4c703a4e",
   "metadata": {
    "tags": []
   },
   "outputs": [
    {
     "data": {
      "text/plain": [
       "[(280000, 5652000), (280000, 5653000), (281000, 5653000), (281000, 5652000)]"
      ]
     },
     "execution_count": 5,
     "metadata": {},
     "output_type": "execute_result"
    }
   ],
   "source": [
    "points_from_fname(example)"
   ]
  },
  {
   "cell_type": "code",
   "execution_count": 7,
   "id": "f934780c",
   "metadata": {
    "tags": []
   },
   "outputs": [
    {
     "data": {
      "image/svg+xml": [
       "<svg xmlns=\"http://www.w3.org/2000/svg\" xmlns:xlink=\"http://www.w3.org/1999/xlink\" width=\"300\" height=\"300\" viewBox=\"279960.0 5651960.0 1080.0 1080.0\" preserveAspectRatio=\"xMinYMin meet\"><g transform=\"matrix(1,0,0,-1,0,11305000.0)\"><path fill-rule=\"evenodd\" fill=\"#66cc99\" stroke=\"#555555\" stroke-width=\"7.2\" opacity=\"0.6\" d=\"M 280000.0,5652000.0 L 280000.0,5653000.0 L 281000.0,5653000.0 L 281000.0,5652000.0 L 280000.0,5652000.0 z\" /></g></svg>"
      ],
      "text/plain": [
       "<POLYGON ((2.8e+05 5.65e+06, 2.8e+05 5.65e+06, 2.81e+05 5.65e+06, 2.81e+05 5...>"
      ]
     },
     "execution_count": 7,
     "metadata": {},
     "output_type": "execute_result"
    }
   ],
   "source": [
    "import shapely\n",
    "shapely.Polygon(points_from_fname(example))"
   ]
  },
  {
   "cell_type": "code",
   "execution_count": 10,
   "id": "b3cd27a9",
   "metadata": {
    "tags": []
   },
   "outputs": [
    {
     "name": "stderr",
     "output_type": "stream",
     "text": [
      "/Users/sac/anaconda3/envs/geoinfo/lib/python3.9/site-packages/bs4/builder/__init__.py:545: XMLParsedAsHTMLWarning: It looks like you're parsing an XML document using an HTML parser. If this really is an HTML document (maybe it's XHTML?), you can ignore or filter this warning. If it's XML, you should know that using an XML parser will be more reliable. To parse this document as XML, make sure you have the lxml package installed, and pass the keyword argument `features=\"xml\"` into the BeautifulSoup constructor.\n",
      "  warnings.warn(\n"
     ]
    }
   ],
   "source": [
    "r = requests.get(dtm_url)\n",
    "\n",
    "soup = BeautifulSoup(r.content, 'html.parser')"
   ]
  },
  {
   "cell_type": "code",
   "execution_count": 17,
   "id": "309463e5",
   "metadata": {
    "tags": []
   },
   "outputs": [],
   "source": [
    "#soup"
   ]
  },
  {
   "cell_type": "code",
   "execution_count": 19,
   "id": "3f6967b0",
   "metadata": {
    "tags": []
   },
   "outputs": [],
   "source": [
    "tag_list = soup.find_all('file')\n",
    "file_name_list = [tag['name'] for tag in tag_list]\n",
    "polygon_list = [shapely.Polygon(points_from_fname(file_name)) for file_name in file_name_list]"
   ]
  },
  {
   "cell_type": "code",
   "execution_count": 23,
   "id": "0cf7f5b4",
   "metadata": {},
   "outputs": [],
   "source": [
    "tag_list = soup.find_all('file')\n",
    "fname_list = [tag[\"name\"] for tag in tag_list]\n",
    "geom_list = [Polygon(points_from_fname(fname)) for fname in fname_list]"
   ]
  },
  {
   "cell_type": "code",
   "execution_count": 28,
   "id": "0eac80b0",
   "metadata": {},
   "outputs": [],
   "source": [
    "#tag_list[:10]"
   ]
  },
  {
   "cell_type": "code",
   "execution_count": 21,
   "id": "2fd05e98",
   "metadata": {
    "tags": []
   },
   "outputs": [],
   "source": [
    "# fname: polygon attribute, geometry: polygon geometry \n",
    "dic = {'fname': file_name_list, 'geometry': polygon_list}\n",
    "gdf = gpd.GeoDataFrame(data = dic, crs=\"EPSG:25832\")"
   ]
  },
  {
   "cell_type": "code",
   "execution_count": 22,
   "id": "b32ba6ba",
   "metadata": {
    "tags": []
   },
   "outputs": [
    {
     "name": "stdout",
     "output_type": "stream",
     "text": [
      "gdf.shape: (35860, 2)\n"
     ]
    },
    {
     "data": {
      "text/html": [
       "<div>\n",
       "<style scoped>\n",
       "    .dataframe tbody tr th:only-of-type {\n",
       "        vertical-align: middle;\n",
       "    }\n",
       "\n",
       "    .dataframe tbody tr th {\n",
       "        vertical-align: top;\n",
       "    }\n",
       "\n",
       "    .dataframe thead th {\n",
       "        text-align: right;\n",
       "    }\n",
       "</style>\n",
       "<table border=\"1\" class=\"dataframe\">\n",
       "  <thead>\n",
       "    <tr style=\"text-align: right;\">\n",
       "      <th></th>\n",
       "      <th>fname</th>\n",
       "      <th>geometry</th>\n",
       "    </tr>\n",
       "  </thead>\n",
       "  <tbody>\n",
       "    <tr>\n",
       "      <th>0</th>\n",
       "      <td>dgm1_32_280_5652_1_nw.xyz.gz</td>\n",
       "      <td>POLYGON ((280000.000 5652000.000, 280000.000 5...</td>\n",
       "    </tr>\n",
       "    <tr>\n",
       "      <th>1</th>\n",
       "      <td>dgm1_32_280_5653_1_nw.xyz.gz</td>\n",
       "      <td>POLYGON ((280000.000 5653000.000, 280000.000 5...</td>\n",
       "    </tr>\n",
       "    <tr>\n",
       "      <th>2</th>\n",
       "      <td>dgm1_32_280_5654_1_nw.xyz.gz</td>\n",
       "      <td>POLYGON ((280000.000 5654000.000, 280000.000 5...</td>\n",
       "    </tr>\n",
       "    <tr>\n",
       "      <th>3</th>\n",
       "      <td>dgm1_32_280_5655_1_nw.xyz.gz</td>\n",
       "      <td>POLYGON ((280000.000 5655000.000, 280000.000 5...</td>\n",
       "    </tr>\n",
       "    <tr>\n",
       "      <th>4</th>\n",
       "      <td>dgm1_32_280_5656_1_nw.xyz.gz</td>\n",
       "      <td>POLYGON ((280000.000 5656000.000, 280000.000 5...</td>\n",
       "    </tr>\n",
       "  </tbody>\n",
       "</table>\n",
       "</div>"
      ],
      "text/plain": [
       "                          fname  \\\n",
       "0  dgm1_32_280_5652_1_nw.xyz.gz   \n",
       "1  dgm1_32_280_5653_1_nw.xyz.gz   \n",
       "2  dgm1_32_280_5654_1_nw.xyz.gz   \n",
       "3  dgm1_32_280_5655_1_nw.xyz.gz   \n",
       "4  dgm1_32_280_5656_1_nw.xyz.gz   \n",
       "\n",
       "                                            geometry  \n",
       "0  POLYGON ((280000.000 5652000.000, 280000.000 5...  \n",
       "1  POLYGON ((280000.000 5653000.000, 280000.000 5...  \n",
       "2  POLYGON ((280000.000 5654000.000, 280000.000 5...  \n",
       "3  POLYGON ((280000.000 5655000.000, 280000.000 5...  \n",
       "4  POLYGON ((280000.000 5656000.000, 280000.000 5...  "
      ]
     },
     "execution_count": 22,
     "metadata": {},
     "output_type": "execute_result"
    }
   ],
   "source": [
    "print(f\"gdf.shape: {gdf.shape}\")\n",
    "gdf.head()"
   ]
  },
  {
   "cell_type": "code",
   "execution_count": 25,
   "id": "a3310107",
   "metadata": {
    "tags": []
   },
   "outputs": [
    {
     "name": "stdout",
     "output_type": "stream",
     "text": [
      "Write gdf to file ../data/derived/NRW_DTM_NRW_EPSG_25832_Tiles_BB/NRW_DTM_NRW_EPSG_25832_Tiles_BB.gpkg\n"
     ]
    }
   ],
   "source": [
    "print(f\"Write gdf to file {data_dir + out_fname:s}\")\n",
    "gdf.to_file(data_dir + out_fname, driver = \"GPKG\") "
   ]
  },
  {
   "cell_type": "code",
   "execution_count": null,
   "id": "3f7fde3d",
   "metadata": {},
   "outputs": [],
   "source": []
  },
  {
   "cell_type": "code",
   "execution_count": null,
   "id": "31a5c591-d704-4a76-bf95-9f0c6b981a8e",
   "metadata": {},
   "outputs": [],
   "source": []
  },
  {
   "cell_type": "code",
   "execution_count": null,
   "id": "54bab391-6da8-4d83-a8c9-7bed6936fe37",
   "metadata": {},
   "outputs": [],
   "source": []
  },
  {
   "cell_type": "code",
   "execution_count": null,
   "id": "673f632f-3398-45d0-bad4-0f71f96b44e3",
   "metadata": {},
   "outputs": [],
   "source": []
  }
 ],
 "metadata": {
  "kernelspec": {
   "display_name": "Python 3 (ipykernel)",
   "language": "python",
   "name": "python3"
  },
  "language_info": {
   "codemirror_mode": {
    "name": "ipython",
    "version": 3
   },
   "file_extension": ".py",
   "mimetype": "text/x-python",
   "name": "python",
   "nbconvert_exporter": "python",
   "pygments_lexer": "ipython3",
   "version": "3.11.6"
  }
 },
 "nbformat": 4,
 "nbformat_minor": 5
}
