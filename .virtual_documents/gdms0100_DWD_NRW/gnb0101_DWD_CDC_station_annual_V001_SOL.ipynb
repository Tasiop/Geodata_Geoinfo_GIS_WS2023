








server = "opendata.dwd.de"
user = "anonymous"
passwd = ""
# COMPLETE THE PATH: dir = "/climate_environment/CDC/observations_germany/..."
dir = "/climate_environment/CDC/observations_germany/climate/annual/kl/historical/"
filename = "KL_Jahreswerte_Beschreibung_Stationen.txt"
localpath = "../data"


from ftplib import FTP


#domain name or server ip:
ftp = FTP(server)
res = ftp.login(user=user, passwd = passwd)
print(res)
res = ftp.cwd(dir)
print(res)
ftp.dir()


def grabFile(filename,localpath):
    localfile = open(localpath+"/"+filename, 'wb')
    ftp.retrbinary('RETR ' + filename, localfile.write, 1024)
    localfile.close()


grabFile(filename,localpath)


# Finally disconnect from the FPT Server
res = ftp.quit()
print(res)








# extract column names. They are in German (de)
file = open(localpath+"/"+filename,"r",encoding="latin")
r = file.readline()
file.close()
colnames_de = r.split()
colnames_de


# translation dictionary
translate = \
{'Stations_id':'station_id',
 'von_datum':'date_from',
 'bis_datum':'date_to',
 'Stationshoehe':'altitude',
 'geoBreite': 'latitude',
 'geoLaenge': 'longitude',
 'Stationsname':'name',
 'Bundesland':'state'}


for h in colnames_de:
    print(translate[h])


# Pythonic
colnames_en = [translate[h] for h in colnames_de]
print(colnames_en)





import pandas as pd


help(pd.read_fwf)


# Skip the first two rows and set the column names.
df = pd.read_fwf(localpath+"/"+filename,skiprows=2,names=colnames_en,encoding="latin")
df.head()


# Better parse dates! Column 0 should be treated as index. It makes the later export with pd.to_csv() easier.
df = pd.read_fwf(localpath+"/"+filename,skiprows=2,names=colnames_en, parse_dates=["date_from","date_to"],index_col = 0,encoding="latin")
df.head()


df.shape





# extract basename (Filename) without extension
import os
fname = os.path.splitext(filename)[0]
csvname = fname + ".csv"
print(csvname)

df.to_csv(localpath+"/"+csvname, sep =";")





















